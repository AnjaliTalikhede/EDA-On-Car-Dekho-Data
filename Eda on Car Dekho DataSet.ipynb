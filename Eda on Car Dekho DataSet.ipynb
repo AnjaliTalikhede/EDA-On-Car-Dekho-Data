{
 "cells": [
  {
   "cell_type": "code",
   "execution_count": 1,
   "id": "d552909a",
   "metadata": {},
   "outputs": [],
   "source": [
    "import pandas as pd\n",
    "import matplotlib.pyplot as plt\n",
    "import seaborn as sns"
   ]
  },
  {
   "cell_type": "code",
   "execution_count": 2,
   "id": "b368754b",
   "metadata": {
    "scrolled": true
   },
   "outputs": [
    {
     "data": {
      "text/html": [
       "<div>\n",
       "<style scoped>\n",
       "    .dataframe tbody tr th:only-of-type {\n",
       "        vertical-align: middle;\n",
       "    }\n",
       "\n",
       "    .dataframe tbody tr th {\n",
       "        vertical-align: top;\n",
       "    }\n",
       "\n",
       "    .dataframe thead th {\n",
       "        text-align: right;\n",
       "    }\n",
       "</style>\n",
       "<table border=\"1\" class=\"dataframe\">\n",
       "  <thead>\n",
       "    <tr style=\"text-align: right;\">\n",
       "      <th></th>\n",
       "      <th>name</th>\n",
       "      <th>year</th>\n",
       "      <th>selling_price</th>\n",
       "      <th>km_driven</th>\n",
       "      <th>fuel</th>\n",
       "      <th>seller_type</th>\n",
       "      <th>transmission</th>\n",
       "      <th>owner</th>\n",
       "    </tr>\n",
       "  </thead>\n",
       "  <tbody>\n",
       "    <tr>\n",
       "      <th>0</th>\n",
       "      <td>Maruti 800 AC</td>\n",
       "      <td>2007</td>\n",
       "      <td>60000</td>\n",
       "      <td>70000</td>\n",
       "      <td>Petrol</td>\n",
       "      <td>Individual</td>\n",
       "      <td>Manual</td>\n",
       "      <td>First Owner</td>\n",
       "    </tr>\n",
       "    <tr>\n",
       "      <th>1</th>\n",
       "      <td>Maruti Wagon R LXI Minor</td>\n",
       "      <td>2007</td>\n",
       "      <td>135000</td>\n",
       "      <td>50000</td>\n",
       "      <td>Petrol</td>\n",
       "      <td>Individual</td>\n",
       "      <td>Manual</td>\n",
       "      <td>First Owner</td>\n",
       "    </tr>\n",
       "    <tr>\n",
       "      <th>2</th>\n",
       "      <td>Hyundai Verna 1.6 SX</td>\n",
       "      <td>2012</td>\n",
       "      <td>600000</td>\n",
       "      <td>100000</td>\n",
       "      <td>Diesel</td>\n",
       "      <td>Individual</td>\n",
       "      <td>Manual</td>\n",
       "      <td>First Owner</td>\n",
       "    </tr>\n",
       "    <tr>\n",
       "      <th>3</th>\n",
       "      <td>Datsun RediGO T Option</td>\n",
       "      <td>2017</td>\n",
       "      <td>250000</td>\n",
       "      <td>46000</td>\n",
       "      <td>Petrol</td>\n",
       "      <td>Individual</td>\n",
       "      <td>Manual</td>\n",
       "      <td>First Owner</td>\n",
       "    </tr>\n",
       "    <tr>\n",
       "      <th>4</th>\n",
       "      <td>Honda Amaze VX i-DTEC</td>\n",
       "      <td>2014</td>\n",
       "      <td>450000</td>\n",
       "      <td>141000</td>\n",
       "      <td>Diesel</td>\n",
       "      <td>Individual</td>\n",
       "      <td>Manual</td>\n",
       "      <td>Second Owner</td>\n",
       "    </tr>\n",
       "  </tbody>\n",
       "</table>\n",
       "</div>"
      ],
      "text/plain": [
       "                       name  year  selling_price  km_driven    fuel  \\\n",
       "0             Maruti 800 AC  2007          60000      70000  Petrol   \n",
       "1  Maruti Wagon R LXI Minor  2007         135000      50000  Petrol   \n",
       "2      Hyundai Verna 1.6 SX  2012         600000     100000  Diesel   \n",
       "3    Datsun RediGO T Option  2017         250000      46000  Petrol   \n",
       "4     Honda Amaze VX i-DTEC  2014         450000     141000  Diesel   \n",
       "\n",
       "  seller_type transmission         owner  \n",
       "0  Individual       Manual   First Owner  \n",
       "1  Individual       Manual   First Owner  \n",
       "2  Individual       Manual   First Owner  \n",
       "3  Individual       Manual   First Owner  \n",
       "4  Individual       Manual  Second Owner  "
      ]
     },
     "execution_count": 2,
     "metadata": {},
     "output_type": "execute_result"
    }
   ],
   "source": [
    "df = pd.read_csv(\"C:/Users/PP/Downloads./cardekhodata.csv\" )\n",
    "df.head()"
   ]
  },
  {
   "cell_type": "code",
   "execution_count": 3,
   "id": "6a6fda24",
   "metadata": {},
   "outputs": [
    {
     "data": {
      "text/html": [
       "<div>\n",
       "<style scoped>\n",
       "    .dataframe tbody tr th:only-of-type {\n",
       "        vertical-align: middle;\n",
       "    }\n",
       "\n",
       "    .dataframe tbody tr th {\n",
       "        vertical-align: top;\n",
       "    }\n",
       "\n",
       "    .dataframe thead th {\n",
       "        text-align: right;\n",
       "    }\n",
       "</style>\n",
       "<table border=\"1\" class=\"dataframe\">\n",
       "  <thead>\n",
       "    <tr style=\"text-align: right;\">\n",
       "      <th></th>\n",
       "      <th>name</th>\n",
       "      <th>year</th>\n",
       "      <th>selling_price</th>\n",
       "      <th>km_driven</th>\n",
       "      <th>fuel</th>\n",
       "      <th>seller_type</th>\n",
       "      <th>transmission</th>\n",
       "      <th>owner</th>\n",
       "    </tr>\n",
       "  </thead>\n",
       "  <tbody>\n",
       "    <tr>\n",
       "      <th>4335</th>\n",
       "      <td>Hyundai i20 Magna 1.4 CRDi (Diesel)</td>\n",
       "      <td>2014</td>\n",
       "      <td>409999</td>\n",
       "      <td>80000</td>\n",
       "      <td>Diesel</td>\n",
       "      <td>Individual</td>\n",
       "      <td>Manual</td>\n",
       "      <td>Second Owner</td>\n",
       "    </tr>\n",
       "    <tr>\n",
       "      <th>4336</th>\n",
       "      <td>Hyundai i20 Magna 1.4 CRDi</td>\n",
       "      <td>2014</td>\n",
       "      <td>409999</td>\n",
       "      <td>80000</td>\n",
       "      <td>Diesel</td>\n",
       "      <td>Individual</td>\n",
       "      <td>Manual</td>\n",
       "      <td>Second Owner</td>\n",
       "    </tr>\n",
       "    <tr>\n",
       "      <th>4337</th>\n",
       "      <td>Maruti 800 AC BSIII</td>\n",
       "      <td>2009</td>\n",
       "      <td>110000</td>\n",
       "      <td>83000</td>\n",
       "      <td>Petrol</td>\n",
       "      <td>Individual</td>\n",
       "      <td>Manual</td>\n",
       "      <td>Second Owner</td>\n",
       "    </tr>\n",
       "    <tr>\n",
       "      <th>4338</th>\n",
       "      <td>Hyundai Creta 1.6 CRDi SX Option</td>\n",
       "      <td>2016</td>\n",
       "      <td>865000</td>\n",
       "      <td>90000</td>\n",
       "      <td>Diesel</td>\n",
       "      <td>Individual</td>\n",
       "      <td>Manual</td>\n",
       "      <td>First Owner</td>\n",
       "    </tr>\n",
       "    <tr>\n",
       "      <th>4339</th>\n",
       "      <td>Renault KWID RXT</td>\n",
       "      <td>2016</td>\n",
       "      <td>225000</td>\n",
       "      <td>40000</td>\n",
       "      <td>Petrol</td>\n",
       "      <td>Individual</td>\n",
       "      <td>Manual</td>\n",
       "      <td>First Owner</td>\n",
       "    </tr>\n",
       "  </tbody>\n",
       "</table>\n",
       "</div>"
      ],
      "text/plain": [
       "                                     name  year  selling_price  km_driven  \\\n",
       "4335  Hyundai i20 Magna 1.4 CRDi (Diesel)  2014         409999      80000   \n",
       "4336           Hyundai i20 Magna 1.4 CRDi  2014         409999      80000   \n",
       "4337                  Maruti 800 AC BSIII  2009         110000      83000   \n",
       "4338     Hyundai Creta 1.6 CRDi SX Option  2016         865000      90000   \n",
       "4339                     Renault KWID RXT  2016         225000      40000   \n",
       "\n",
       "        fuel seller_type transmission         owner  \n",
       "4335  Diesel  Individual       Manual  Second Owner  \n",
       "4336  Diesel  Individual       Manual  Second Owner  \n",
       "4337  Petrol  Individual       Manual  Second Owner  \n",
       "4338  Diesel  Individual       Manual   First Owner  \n",
       "4339  Petrol  Individual       Manual   First Owner  "
      ]
     },
     "execution_count": 3,
     "metadata": {},
     "output_type": "execute_result"
    }
   ],
   "source": [
    "df.tail()"
   ]
  },
  {
   "cell_type": "code",
   "execution_count": 4,
   "id": "0378acbb",
   "metadata": {},
   "outputs": [
    {
     "data": {
      "text/plain": [
       "(4340, 8)"
      ]
     },
     "execution_count": 4,
     "metadata": {},
     "output_type": "execute_result"
    }
   ],
   "source": [
    "df.shape"
   ]
  },
  {
   "cell_type": "code",
   "execution_count": 5,
   "id": "184daa65",
   "metadata": {},
   "outputs": [
    {
     "name": "stdout",
     "output_type": "stream",
     "text": [
      "<class 'pandas.core.frame.DataFrame'>\n",
      "RangeIndex: 4340 entries, 0 to 4339\n",
      "Data columns (total 8 columns):\n",
      " #   Column         Non-Null Count  Dtype \n",
      "---  ------         --------------  ----- \n",
      " 0   name           4340 non-null   object\n",
      " 1   year           4340 non-null   int64 \n",
      " 2   selling_price  4340 non-null   int64 \n",
      " 3   km_driven      4340 non-null   int64 \n",
      " 4   fuel           4340 non-null   object\n",
      " 5   seller_type    4340 non-null   object\n",
      " 6   transmission   4340 non-null   object\n",
      " 7   owner          4340 non-null   object\n",
      "dtypes: int64(3), object(5)\n",
      "memory usage: 271.4+ KB\n"
     ]
    }
   ],
   "source": [
    "df.info()\n"
   ]
  },
  {
   "cell_type": "code",
   "execution_count": 6,
   "id": "ee2cdbc0",
   "metadata": {},
   "outputs": [
    {
     "data": {
      "text/plain": [
       "name             0\n",
       "year             0\n",
       "selling_price    0\n",
       "km_driven        0\n",
       "fuel             0\n",
       "seller_type      0\n",
       "transmission     0\n",
       "owner            0\n",
       "dtype: int64"
      ]
     },
     "execution_count": 6,
     "metadata": {},
     "output_type": "execute_result"
    }
   ],
   "source": [
    "df.isnull().sum()"
   ]
  },
  {
   "cell_type": "code",
   "execution_count": null,
   "id": "6a901de6",
   "metadata": {},
   "outputs": [],
   "source": [
    "# Checking for Duplicate rows."
   ]
  },
  {
   "cell_type": "code",
   "execution_count": 7,
   "id": "ba42975d",
   "metadata": {},
   "outputs": [
    {
     "name": "stdout",
     "output_type": "stream",
     "text": [
      "Duplicate Rows :\n"
     ]
    },
    {
     "data": {
      "text/html": [
       "<div>\n",
       "<style scoped>\n",
       "    .dataframe tbody tr th:only-of-type {\n",
       "        vertical-align: middle;\n",
       "    }\n",
       "\n",
       "    .dataframe tbody tr th {\n",
       "        vertical-align: top;\n",
       "    }\n",
       "\n",
       "    .dataframe thead th {\n",
       "        text-align: right;\n",
       "    }\n",
       "</style>\n",
       "<table border=\"1\" class=\"dataframe\">\n",
       "  <thead>\n",
       "    <tr style=\"text-align: right;\">\n",
       "      <th></th>\n",
       "      <th>name</th>\n",
       "      <th>year</th>\n",
       "      <th>selling_price</th>\n",
       "      <th>km_driven</th>\n",
       "      <th>fuel</th>\n",
       "      <th>seller_type</th>\n",
       "      <th>transmission</th>\n",
       "      <th>owner</th>\n",
       "    </tr>\n",
       "  </thead>\n",
       "  <tbody>\n",
       "    <tr>\n",
       "      <th>13</th>\n",
       "      <td>Maruti 800 AC</td>\n",
       "      <td>2007</td>\n",
       "      <td>60000</td>\n",
       "      <td>70000</td>\n",
       "      <td>Petrol</td>\n",
       "      <td>Individual</td>\n",
       "      <td>Manual</td>\n",
       "      <td>First Owner</td>\n",
       "    </tr>\n",
       "    <tr>\n",
       "      <th>14</th>\n",
       "      <td>Maruti Wagon R LXI Minor</td>\n",
       "      <td>2007</td>\n",
       "      <td>135000</td>\n",
       "      <td>50000</td>\n",
       "      <td>Petrol</td>\n",
       "      <td>Individual</td>\n",
       "      <td>Manual</td>\n",
       "      <td>First Owner</td>\n",
       "    </tr>\n",
       "    <tr>\n",
       "      <th>15</th>\n",
       "      <td>Hyundai Verna 1.6 SX</td>\n",
       "      <td>2012</td>\n",
       "      <td>600000</td>\n",
       "      <td>100000</td>\n",
       "      <td>Diesel</td>\n",
       "      <td>Individual</td>\n",
       "      <td>Manual</td>\n",
       "      <td>First Owner</td>\n",
       "    </tr>\n",
       "    <tr>\n",
       "      <th>16</th>\n",
       "      <td>Datsun RediGO T Option</td>\n",
       "      <td>2017</td>\n",
       "      <td>250000</td>\n",
       "      <td>46000</td>\n",
       "      <td>Petrol</td>\n",
       "      <td>Individual</td>\n",
       "      <td>Manual</td>\n",
       "      <td>First Owner</td>\n",
       "    </tr>\n",
       "    <tr>\n",
       "      <th>17</th>\n",
       "      <td>Honda Amaze VX i-DTEC</td>\n",
       "      <td>2014</td>\n",
       "      <td>450000</td>\n",
       "      <td>141000</td>\n",
       "      <td>Diesel</td>\n",
       "      <td>Individual</td>\n",
       "      <td>Manual</td>\n",
       "      <td>Second Owner</td>\n",
       "    </tr>\n",
       "    <tr>\n",
       "      <th>...</th>\n",
       "      <td>...</td>\n",
       "      <td>...</td>\n",
       "      <td>...</td>\n",
       "      <td>...</td>\n",
       "      <td>...</td>\n",
       "      <td>...</td>\n",
       "      <td>...</td>\n",
       "      <td>...</td>\n",
       "    </tr>\n",
       "    <tr>\n",
       "      <th>4307</th>\n",
       "      <td>Mahindra Xylo H4</td>\n",
       "      <td>2019</td>\n",
       "      <td>599000</td>\n",
       "      <td>15000</td>\n",
       "      <td>Diesel</td>\n",
       "      <td>Individual</td>\n",
       "      <td>Manual</td>\n",
       "      <td>Third Owner</td>\n",
       "    </tr>\n",
       "    <tr>\n",
       "      <th>4308</th>\n",
       "      <td>Maruti Alto 800 LXI</td>\n",
       "      <td>2018</td>\n",
       "      <td>200000</td>\n",
       "      <td>35000</td>\n",
       "      <td>Petrol</td>\n",
       "      <td>Individual</td>\n",
       "      <td>Manual</td>\n",
       "      <td>First Owner</td>\n",
       "    </tr>\n",
       "    <tr>\n",
       "      <th>4309</th>\n",
       "      <td>Datsun GO Plus T</td>\n",
       "      <td>2017</td>\n",
       "      <td>350000</td>\n",
       "      <td>10171</td>\n",
       "      <td>Petrol</td>\n",
       "      <td>Dealer</td>\n",
       "      <td>Manual</td>\n",
       "      <td>First Owner</td>\n",
       "    </tr>\n",
       "    <tr>\n",
       "      <th>4310</th>\n",
       "      <td>Renault Duster 110PS Diesel RxL</td>\n",
       "      <td>2015</td>\n",
       "      <td>465000</td>\n",
       "      <td>41123</td>\n",
       "      <td>Diesel</td>\n",
       "      <td>Dealer</td>\n",
       "      <td>Manual</td>\n",
       "      <td>First Owner</td>\n",
       "    </tr>\n",
       "    <tr>\n",
       "      <th>4311</th>\n",
       "      <td>Toyota Camry Hybrid 2.5</td>\n",
       "      <td>2017</td>\n",
       "      <td>1900000</td>\n",
       "      <td>20118</td>\n",
       "      <td>Petrol</td>\n",
       "      <td>Dealer</td>\n",
       "      <td>Automatic</td>\n",
       "      <td>First Owner</td>\n",
       "    </tr>\n",
       "  </tbody>\n",
       "</table>\n",
       "<p>763 rows × 8 columns</p>\n",
       "</div>"
      ],
      "text/plain": [
       "                                 name  year  selling_price  km_driven    fuel  \\\n",
       "13                      Maruti 800 AC  2007          60000      70000  Petrol   \n",
       "14           Maruti Wagon R LXI Minor  2007         135000      50000  Petrol   \n",
       "15               Hyundai Verna 1.6 SX  2012         600000     100000  Diesel   \n",
       "16             Datsun RediGO T Option  2017         250000      46000  Petrol   \n",
       "17              Honda Amaze VX i-DTEC  2014         450000     141000  Diesel   \n",
       "...                               ...   ...            ...        ...     ...   \n",
       "4307                 Mahindra Xylo H4  2019         599000      15000  Diesel   \n",
       "4308              Maruti Alto 800 LXI  2018         200000      35000  Petrol   \n",
       "4309                 Datsun GO Plus T  2017         350000      10171  Petrol   \n",
       "4310  Renault Duster 110PS Diesel RxL  2015         465000      41123  Diesel   \n",
       "4311          Toyota Camry Hybrid 2.5  2017        1900000      20118  Petrol   \n",
       "\n",
       "     seller_type transmission         owner  \n",
       "13    Individual       Manual   First Owner  \n",
       "14    Individual       Manual   First Owner  \n",
       "15    Individual       Manual   First Owner  \n",
       "16    Individual       Manual   First Owner  \n",
       "17    Individual       Manual  Second Owner  \n",
       "...          ...          ...           ...  \n",
       "4307  Individual       Manual   Third Owner  \n",
       "4308  Individual       Manual   First Owner  \n",
       "4309      Dealer       Manual   First Owner  \n",
       "4310      Dealer       Manual   First Owner  \n",
       "4311      Dealer    Automatic   First Owner  \n",
       "\n",
       "[763 rows x 8 columns]"
      ]
     },
     "execution_count": 7,
     "metadata": {},
     "output_type": "execute_result"
    }
   ],
   "source": [
    "duplicate = df[df.duplicated()] \n",
    "print(\"Duplicate Rows :\") \n",
    "duplicate "
   ]
  },
  {
   "cell_type": "code",
   "execution_count": 8,
   "id": "473c595b",
   "metadata": {},
   "outputs": [],
   "source": [
    "df.drop_duplicates(inplace=True)"
   ]
  },
  {
   "cell_type": "code",
   "execution_count": 9,
   "id": "c02a023f",
   "metadata": {},
   "outputs": [
    {
     "data": {
      "text/plain": [
       "(3577, 8)"
      ]
     },
     "execution_count": 9,
     "metadata": {},
     "output_type": "execute_result"
    }
   ],
   "source": [
    "df.shape"
   ]
  },
  {
   "cell_type": "code",
   "execution_count": null,
   "id": "f39586fc",
   "metadata": {},
   "outputs": [],
   "source": [
    "# We have dropped the 763 duplicate rows."
   ]
  },
  {
   "cell_type": "code",
   "execution_count": null,
   "id": "55242118",
   "metadata": {},
   "outputs": [],
   "source": [
    "# A heatmap to check the null values"
   ]
  },
  {
   "cell_type": "code",
   "execution_count": 10,
   "id": "0493d9ca",
   "metadata": {},
   "outputs": [
    {
     "data": {
      "image/png": "[encoded data removed]",
      "text/plain": [
       "<Figure size 432x288 with 2 Axes>"
      ]
     },
     "metadata": {
      "needs_background": "light"
     },
     "output_type": "display_data"
    }
   ],
   "source": [
    "sns.heatmap(df.isnull())\n",
    "plt.show()"
   ]
  },
  {
   "cell_type": "code",
   "execution_count": null,
   "id": "a8edc013",
   "metadata": {},
   "outputs": [],
   "source": [
    "# Plotting the Pearson Correlation of Features"
   ]
  },
  {
   "cell_type": "code",
   "execution_count": 11,
   "id": "b91a382a",
   "metadata": {},
   "outputs": [
    {
     "name": "stdout",
     "output_type": "stream",
     "text": [
      "Highly Correlated Variables\n"
     ]
    },
    {
     "data": {
      "text/plain": [
       "Series([], dtype: float64)"
      ]
     },
     "execution_count": 11,
     "metadata": {},
     "output_type": "execute_result"
    },
    {
     "data": {
      "image/png": "[encoded data removed]",
      "text/plain": [
       "<Figure size 432x288 with 2 Axes>"
      ]
     },
     "metadata": {
      "needs_background": "light"
     },
     "output_type": "display_data"
    }
   ],
   "source": [
    "def correlation_heatmap(df):\n",
    "    _ , ax = plt.subplots(figsize =(6,4))\n",
    "    colormap = sns.diverging_palette(240, 20, as_cmap = True)\n",
    "    \n",
    "    _ = sns.heatmap(\n",
    "        df.corr(), \n",
    "        cmap = 'viridis',\n",
    "        square=True, \n",
    "        cbar_kws={'shrink':.8 }, \n",
    "        ax=ax,\n",
    "        annot=True, \n",
    "        linewidths=0.1,vmax=1.0, linecolor='white',\n",
    "        annot_kws={'fontsize':12 }\n",
    "    )\n",
    "    \n",
    "    plt.title('Pearson Correlation of Features', y=1.05, size=20)\n",
    "    plt.savefig('Heatmap.png')\n",
    "    \n",
    "    correlation = df.corr().unstack().sort_values(kind='quicksort')\n",
    "    print('Highly Correlated Variables')\n",
    "    return correlation[((correlation>=0.75) | (correlation<=-0.75)) & (correlation!=1)]\n",
    "\n",
    "correlation_heatmap(df)"
   ]
  },
  {
   "cell_type": "code",
   "execution_count": null,
   "id": "c6517cd6",
   "metadata": {},
   "outputs": [],
   "source": [
    "# UNIVARIATE ANALYSIS"
   ]
  },
  {
   "cell_type": "code",
   "execution_count": 12,
   "id": "4f76346b",
   "metadata": {},
   "outputs": [
    {
     "data": {
      "text/plain": [
       "array([2007, 2012, 2017, 2014, 2016, 2015, 2018, 2019, 2013, 2011, 2010,\n",
       "       2009, 2006, 1996, 2005, 2008, 2004, 1998, 2003, 2002, 2020, 2000,\n",
       "       1999, 2001, 1995, 1997, 1992], dtype=int64)"
      ]
     },
     "execution_count": 12,
     "metadata": {},
     "output_type": "execute_result"
    }
   ],
   "source": [
    "df['year'].unique()"
   ]
  },
  {
   "cell_type": "code",
   "execution_count": null,
   "id": "4bb2f648",
   "metadata": {},
   "outputs": [],
   "source": [
    "#e have data ranging from years 1992 to 2020"
   ]
  },
  {
   "cell_type": "code",
   "execution_count": 13,
   "id": "30e5970a",
   "metadata": {},
   "outputs": [
    {
     "data": {
      "text/plain": [
       "array(['Individual', 'Dealer', 'Trustmark Dealer'], dtype=object)"
      ]
     },
     "execution_count": 13,
     "metadata": {},
     "output_type": "execute_result"
    }
   ],
   "source": [
    "df['seller_type'].unique()"
   ]
  },
  {
   "cell_type": "code",
   "execution_count": null,
   "id": "6d53260c",
   "metadata": {},
   "outputs": [],
   "source": [
    "sns.countplot(data=df,x=\"fuel\")\n",
    "plt.title('Number of Cars grouped by fuel type')\n",
    "plt.ylabel('Number of Cars')\n",
    "plt.xlabel('Fuel Types')\n",
    "plt.show();"
   ]
  },
  {
   "cell_type": "code",
   "execution_count": null,
   "id": "4bb16628",
   "metadata": {},
   "outputs": [],
   "source": [
    "# Most cars to be sold are either petrol or diesel."
   ]
  },
  {
   "cell_type": "code",
   "execution_count": 14,
   "id": "673025c2",
   "metadata": {},
   "outputs": [
    {
     "name": "stderr",
     "output_type": "stream",
     "text": [
      "C:\\Users\\PP\\anaconda3\\envs\\py39\\lib\\site-packages\\seaborn\\distributions.py:2619: FutureWarning: `distplot` is a deprecated function and will be removed in a future version. Please adapt your code to use either `displot` (a figure-level function with similar flexibility) or `histplot` (an axes-level function for histograms).\n",
      "  warnings.warn(msg, FutureWarning)\n"
     ]
    },
    {
     "data": {
      "image/png": "[encoded data removed]",
      "text/plain": [
       "<Figure size 432x288 with 1 Axes>"
      ]
     },
     "metadata": {
      "needs_background": "light"
     },
     "output_type": "display_data"
    }
   ],
   "source": [
    "sns.distplot(df.selling_price, kde=False)\n",
    "plt.title('Selling price Distribution of cars')\n",
    "plt.show();"
   ]
  },
  {
   "cell_type": "code",
   "execution_count": null,
   "id": "60894299",
   "metadata": {},
   "outputs": [],
   "source": [
    "# Here we can observe that majority of the cars are sold in the price range of 2-10 Lakh."
   ]
  },
  {
   "cell_type": "code",
   "execution_count": null,
   "id": "1fcc839a",
   "metadata": {},
   "outputs": [],
   "source": [
    "# BIVARIATE ANALYSIS"
   ]
  },
  {
   "cell_type": "code",
   "execution_count": 15,
   "id": "04bf3445",
   "metadata": {},
   "outputs": [
    {
     "data": {
      "text/plain": [
       "<AxesSubplot:xlabel='owner', ylabel='km_driven'>"
      ]
     },
     "execution_count": 15,
     "metadata": {},
     "output_type": "execute_result"
    },
    {
     "data": {
      "image/png": "[encoded data removed]",
      "text/plain": [
       "<Figure size 432x288 with 1 Axes>"
      ]
     },
     "metadata": {
      "needs_background": "light"
     },
     "output_type": "display_data"
    }
   ],
   "source": [
    "sns.boxplot(x=\"owner\", y=\"km_driven\", data=df)"
   ]
  },
  {
   "cell_type": "code",
   "execution_count": 16,
   "id": "506bf458",
   "metadata": {},
   "outputs": [
    {
     "data": {
      "text/plain": [
       "<AxesSubplot:xlabel='seller_type', ylabel='count'>"
      ]
     },
     "execution_count": 16,
     "metadata": {},
     "output_type": "execute_result"
    },
    {
     "data": {
      "image/png": "[encoded data removed]",
      "text/plain": [
       "<Figure size 432x288 with 1 Axes>"
      ]
     },
     "metadata": {},
     "output_type": "display_data"
    }
   ],
   "source": [
    "sns.set_style('whitegrid')\n",
    "sns.countplot(x='seller_type',hue='transmission',data=df)"
   ]
  },
  {
   "cell_type": "code",
   "execution_count": null,
   "id": "ab6a45f9",
   "metadata": {},
   "outputs": [],
   "source": [
    "#  We can see that the cars being sold by an Individual with Manual transmission is highest"
   ]
  },
  {
   "cell_type": "code",
   "execution_count": 17,
   "id": "9cc89aa1",
   "metadata": {},
   "outputs": [
    {
     "data": {
      "text/plain": [
       "<seaborn.axisgrid.FacetGrid at 0x236787bbc40>"
      ]
     },
     "execution_count": 17,
     "metadata": {},
     "output_type": "execute_result"
    },
    {
     "data": {
      "image/png": "[encoded data removed]",
      "text/plain": [
       "<Figure size 418.375x360 with 1 Axes>"
      ]
     },
     "metadata": {},
     "output_type": "display_data"
    }
   ],
   "source": [
    "sns.catplot(y=\"transmission\", hue=\"year\", kind=\"count\",\n",
    "            data=df)"
   ]
  },
  {
   "cell_type": "code",
   "execution_count": null,
   "id": "301337c8",
   "metadata": {},
   "outputs": [],
   "source": [
    "#Here we can observe that most of the Automatic transmission cars have a Manufacturer Date \n",
    "#after 2008-2009 as there were very few automatic cars at that time in India."
   ]
  },
  {
   "cell_type": "code",
   "execution_count": null,
   "id": "2b257a32",
   "metadata": {},
   "outputs": [],
   "source": [
    "# Checking how the seller type influences the selling type :"
   ]
  },
  {
   "cell_type": "code",
   "execution_count": 18,
   "id": "433c81b0",
   "metadata": {},
   "outputs": [
    {
     "data": {
      "text/plain": [
       "<AxesSubplot:xlabel='seller_type', ylabel='selling_price'>"
      ]
     },
     "execution_count": 18,
     "metadata": {},
     "output_type": "execute_result"
    },
    {
     "data": {
      "image/png": "[encoded data removed]",
      "text/plain": [
       "<Figure size 1440x360 with 2 Axes>"
      ]
     },
     "metadata": {},
     "output_type": "display_data"
    }
   ],
   "source": [
    "fig, (axis1,axis2) = plt.subplots(1, 2, figsize = (20,5))\n",
    "sns.countplot(x=\"seller_type\", data=df, ax=axis1)\n",
    "sns.barplot(x=\"seller_type\", y=\"selling_price\",data=df, ax=axis2 )"
   ]
  },
  {
   "cell_type": "code",
   "execution_count": null,
   "id": "3f50887f",
   "metadata": {},
   "outputs": [],
   "source": [
    "# Number of Indiviual sellers is the highest but Trustmark dealers are selling the cars for the highest price"
   ]
  },
  {
   "cell_type": "code",
   "execution_count": null,
   "id": "4dcc113c",
   "metadata": {},
   "outputs": [],
   "source": [
    "# Effect of field \"owner\" to the selling price"
   ]
  },
  {
   "cell_type": "code",
   "execution_count": 19,
   "id": "c7d133e1",
   "metadata": {},
   "outputs": [
    {
     "data": {
      "text/plain": [
       "<AxesSubplot:xlabel='owner', ylabel='selling_price'>"
      ]
     },
     "execution_count": 19,
     "metadata": {},
     "output_type": "execute_result"
    },
    {
     "data": {
      "image/png": "[encoded data removed]",
      "text/plain": [
       "<Figure size 1440x360 with 2 Axes>"
      ]
     },
     "metadata": {},
     "output_type": "display_data"
    }
   ],
   "source": [
    "fig, (axis1,axis2)=plt.subplots(1,2,figsize=(20,5))\n",
    "sns.countplot(x=\"owner\",data=df,ax=axis1)\n",
    "sns.barplot(x=\"owner\",y=\"selling_price\",data=df,ax=axis2)"
   ]
  },
  {
   "cell_type": "code",
   "execution_count": null,
   "id": "86d29123",
   "metadata": {},
   "outputs": [],
   "source": [
    "# The number of respective owners and the selling price at which they are selling their graphs has a similar graph \n",
    "# except the Test Drive Car"
   ]
  },
  {
   "cell_type": "code",
   "execution_count": null,
   "id": "838c8bae",
   "metadata": {},
   "outputs": [],
   "source": [
    "# How the transmission type affects selling price"
   ]
  },
  {
   "cell_type": "code",
   "execution_count": 20,
   "id": "778e4a03",
   "metadata": {},
   "outputs": [
    {
     "data": {
      "text/plain": [
       "<AxesSubplot:xlabel='transmission', ylabel='selling_price'>"
      ]
     },
     "execution_count": 20,
     "metadata": {},
     "output_type": "execute_result"
    },
    {
     "data": {
      "image/png": "[encoded data removed]",
      "text/plain": [
       "<Figure size 1440x360 with 2 Axes>"
      ]
     },
     "metadata": {},
     "output_type": "display_data"
    }
   ],
   "source": [
    "fig, (axis1,axis2)=plt.subplots(1,2,figsize=(20,5))\n",
    "sns.countplot(x=\"transmission\",data=df,ax=axis1)\n",
    "sns.barplot(x=\"transmission\",y=\"selling_price\",data=df,ax=axis2)"
   ]
  },
  {
   "cell_type": "code",
   "execution_count": null,
   "id": "36c04b4a",
   "metadata": {},
   "outputs": [],
   "source": [
    "# Number of manual cars being sold is more than automatic, but automatic cars sells at a higher price"
   ]
  },
  {
   "cell_type": "code",
   "execution_count": 21,
   "id": "f1d0ec6f",
   "metadata": {},
   "outputs": [
    {
     "data": {
      "text/plain": [
       "<AxesSubplot:xlabel='km_driven', ylabel='selling_price'>"
      ]
     },
     "execution_count": 21,
     "metadata": {},
     "output_type": "execute_result"
    },
    {
     "data": {
      "image/png": "[encoded data removed]",
      "text/plain": [
       "<Figure size 432x288 with 1 Axes>"
      ]
     },
     "metadata": {},
     "output_type": "display_data"
    }
   ],
   "source": [
    "sns.scatterplot(data=df,x=\"km_driven\",y=\"selling_price\")"
   ]
  },
  {
   "cell_type": "code",
   "execution_count": null,
   "id": "6670d659",
   "metadata": {},
   "outputs": [],
   "source": [
    "#  Most of the cars are selling at a price less than Rs 20 lakh and the km on them are less than 3 lakh km."
   ]
  },
  {
   "cell_type": "code",
   "execution_count": null,
   "id": "a281bb68",
   "metadata": {},
   "outputs": [],
   "source": [
    "#  But we can see some outliers here where the price of the car can be as high as Rs 80lakh \n",
    "#  but cannot be driven for more than 8lakh km"
   ]
  },
  {
   "cell_type": "code",
   "execution_count": null,
   "id": "e4c57a1f",
   "metadata": {},
   "outputs": [],
   "source": [
    "# Cars which are less driven sell for a higher price"
   ]
  },
  {
   "cell_type": "code",
   "execution_count": 22,
   "id": "f918a6e9",
   "metadata": {},
   "outputs": [
    {
     "data": {
      "text/plain": [
       "<AxesSubplot:xlabel='Age', ylabel='selling_price'>"
      ]
     },
     "execution_count": 22,
     "metadata": {},
     "output_type": "execute_result"
    },
    {
     "data": {
      "image/png": "[encoded data removed]",
      "text/plain": [
       "<Figure size 432x288 with 1 Axes>"
      ]
     },
     "metadata": {},
     "output_type": "display_data"
    }
   ],
   "source": [
    "df[\"Age\"] = 2020-df[\"year\"]\n",
    "df.drop('year',axis=1,inplace=True)\n",
    "sns.lineplot(data=df,x=\"Age\",y=\"selling_price\")"
   ]
  },
  {
   "cell_type": "code",
   "execution_count": null,
   "id": "f1fe39cd",
   "metadata": {},
   "outputs": [],
   "source": [
    "# We created a new feature called 'Age' using the 'year' of the car and appended it to the dataframe\n",
    "\n",
    "# We can now drop the Year column from the dataframe."
   ]
  },
  {
   "cell_type": "code",
   "execution_count": null,
   "id": "252aad2e",
   "metadata": {},
   "outputs": [],
   "source": [
    "#  Newer cars sell for higher prices"
   ]
  },
  {
   "cell_type": "code",
   "execution_count": 23,
   "id": "3e67d1a0",
   "metadata": {},
   "outputs": [
    {
     "data": {
      "text/plain": [
       "<AxesSubplot:xlabel='fuel', ylabel='selling_price'>"
      ]
     },
     "execution_count": 23,
     "metadata": {},
     "output_type": "execute_result"
    },
    {
     "data": {
      "image/png": "[encoded data removed]",
      "text/plain": [
       "<Figure size 432x288 with 1 Axes>"
      ]
     },
     "metadata": {},
     "output_type": "display_data"
    }
   ],
   "source": [
    "sns.barplot(data=df,x=\"fuel\",y=\"selling_price\")"
   ]
  },
  {
   "cell_type": "code",
   "execution_count": null,
   "id": "143e505b",
   "metadata": {},
   "outputs": [],
   "source": [
    "# Diesel cars have the most selling price folowed by petrol."
   ]
  },
  {
   "cell_type": "code",
   "execution_count": null,
   "id": "fc1cc201",
   "metadata": {},
   "outputs": [],
   "source": []
  }
 ],
 "metadata": {
  "kernelspec": {
   "display_name": "Python 3 (ipykernel)",
   "language": "python",
   "name": "python3"
  },
  "language_info": {
   "codemirror_mode": {
    "name": "ipython",
    "version": 3
   },
   "file_extension": ".py",
   "mimetype": "text/x-python",
   "name": "python",
   "nbconvert_exporter": "python",
   "pygments_lexer": "ipython3",
   "version": "3.9.7"
  }
 },
 "nbformat": 4,
 "nbformat_minor": 5
}
